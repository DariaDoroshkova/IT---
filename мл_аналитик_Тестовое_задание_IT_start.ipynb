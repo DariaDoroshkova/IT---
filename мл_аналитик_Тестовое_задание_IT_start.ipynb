{
 "cells": [
  {
   "cell_type": "code",
   "execution_count": 1,
   "id": "stuck-terrorist",
   "metadata": {},
   "outputs": [],
   "source": [
    "import numpy as np\n",
    "import pandas as pd\n",
    "import matplotlib.pyplot as plt\n",
    "import seaborn as sns\n",
    "import json\n",
    "from sklearn.preprocessing import OrdinalEncoder\n",
    "import matplotlib.pyplot as plt\n"
   ]
  },
  {
   "cell_type": "code",
   "execution_count": 2,
   "id": "binary-siemens",
   "metadata": {},
   "outputs": [
    {
     "data": {
      "text/html": [
       "<div>\n",
       "<style scoped>\n",
       "    .dataframe tbody tr th:only-of-type {\n",
       "        vertical-align: middle;\n",
       "    }\n",
       "\n",
       "    .dataframe tbody tr th {\n",
       "        vertical-align: top;\n",
       "    }\n",
       "\n",
       "    .dataframe thead th {\n",
       "        text-align: right;\n",
       "    }\n",
       "</style>\n",
       "<table border=\"1\" class=\"dataframe\">\n",
       "  <thead>\n",
       "    <tr style=\"text-align: right;\">\n",
       "      <th></th>\n",
       "      <th>id</th>\n",
       "      <th>userId</th>\n",
       "      <th>eventTime</th>\n",
       "      <th>eventCode</th>\n",
       "      <th>content</th>\n",
       "      <th>additional</th>\n",
       "    </tr>\n",
       "  </thead>\n",
       "  <tbody>\n",
       "    <tr>\n",
       "      <th>0</th>\n",
       "      <td>b25c7564-b084-42ef-90f7-ce8466b4560e</td>\n",
       "      <td>cf943c19-a2df-447b-9d26-77727d7c555b</td>\n",
       "      <td>2019-08-09 17:31:01.298</td>\n",
       "      <td>SignedInEvent</td>\n",
       "      <td>NaN</td>\n",
       "      <td>{\"utmParams\": null}</td>\n",
       "    </tr>\n",
       "    <tr>\n",
       "      <th>1</th>\n",
       "      <td>17f45c55-2a8c-4b05-8d6f-651899a928cf</td>\n",
       "      <td>ca036cd8-dc22-4377-9fa4-fe073313e464</td>\n",
       "      <td>2019-08-09 17:31:08.639</td>\n",
       "      <td>ObjectViewedJournalEvent</td>\n",
       "      <td>{\"content\": {\"identifier\": \"67fe6e4e-1e8c-4ab0...</td>\n",
       "      <td>{\"utmParams\": null}</td>\n",
       "    </tr>\n",
       "    <tr>\n",
       "      <th>2</th>\n",
       "      <td>b1e69af1-4c4e-4208-bf6c-8dc03ae6eb9b</td>\n",
       "      <td>ca036cd8-dc22-4377-9fa4-fe073313e464</td>\n",
       "      <td>2019-08-09 17:31:17.066</td>\n",
       "      <td>SearchExecutedJournalEvent</td>\n",
       "      <td>{\"docRequest\": {\"skip\": 0, \"limit\": 0, \"query\"...</td>\n",
       "      <td>{\"utmParams\": null}</td>\n",
       "    </tr>\n",
       "    <tr>\n",
       "      <th>3</th>\n",
       "      <td>5382f088-cf0c-419e-a14e-0466aa0452e2</td>\n",
       "      <td>ca036cd8-dc22-4377-9fa4-fe073313e464</td>\n",
       "      <td>2019-08-09 17:59:51.295</td>\n",
       "      <td>SignedOutEvent</td>\n",
       "      <td>NaN</td>\n",
       "      <td>{\"utmParams\": null}</td>\n",
       "    </tr>\n",
       "    <tr>\n",
       "      <th>4</th>\n",
       "      <td>32dbe698-8d51-4148-9017-5137e75bac23</td>\n",
       "      <td>ca036cd8-dc22-4377-9fa4-fe073313e464</td>\n",
       "      <td>2019-08-09 17:59:51.948</td>\n",
       "      <td>SearchExecutedJournalEvent</td>\n",
       "      <td>{\"docRequest\": {\"skip\": 0, \"limit\": 0, \"query\"...</td>\n",
       "      <td>{\"utmParams\": null}</td>\n",
       "    </tr>\n",
       "    <tr>\n",
       "      <th>...</th>\n",
       "      <td>...</td>\n",
       "      <td>...</td>\n",
       "      <td>...</td>\n",
       "      <td>...</td>\n",
       "      <td>...</td>\n",
       "      <td>...</td>\n",
       "    </tr>\n",
       "    <tr>\n",
       "      <th>59995</th>\n",
       "      <td>9857c929-f728-4bb8-8483-7c7958426b94</td>\n",
       "      <td>ca036cd8-dc22-4377-9fa4-fe073313e464</td>\n",
       "      <td>2019-11-21 07:57:53.656</td>\n",
       "      <td>SearchExecutedJournalEvent</td>\n",
       "      <td>{\"docRequest\": {\"skip\": 0, \"limit\": 0, \"query\"...</td>\n",
       "      <td>{\"utmParams\": null}</td>\n",
       "    </tr>\n",
       "    <tr>\n",
       "      <th>59996</th>\n",
       "      <td>4aaa559d-c2be-4fa3-a440-4a1ce270f7cf</td>\n",
       "      <td>ca036cd8-dc22-4377-9fa4-fe073313e464</td>\n",
       "      <td>2019-11-21 07:57:57.881</td>\n",
       "      <td>SearchExecutedJournalEvent</td>\n",
       "      <td>{\"docRequest\": {\"skip\": 0, \"limit\": 10, \"query...</td>\n",
       "      <td>{\"utmParams\": null}</td>\n",
       "    </tr>\n",
       "    <tr>\n",
       "      <th>59997</th>\n",
       "      <td>e4d6f7f6-4029-49dd-8ab8-e94d88366a9b</td>\n",
       "      <td>NaN</td>\n",
       "      <td>2019-11-21 08:22:21.476</td>\n",
       "      <td>RedirectedFromExternalWithUtm</td>\n",
       "      <td>NaN</td>\n",
       "      <td>{\"utmParams\": {\"markerTypeToValue\": {\"utm_sour...</td>\n",
       "    </tr>\n",
       "    <tr>\n",
       "      <th>59998</th>\n",
       "      <td>aed5bd35-f5fd-4b92-a013-6cf8248d3a08</td>\n",
       "      <td>ae9217d9-0f9f-48cb-8abe-b114c20b98e0</td>\n",
       "      <td>2019-11-21 08:25:47.155</td>\n",
       "      <td>UserStartActivity</td>\n",
       "      <td>NaN</td>\n",
       "      <td>{\"utmParams\": null}</td>\n",
       "    </tr>\n",
       "    <tr>\n",
       "      <th>59999</th>\n",
       "      <td>6a3013ac-798d-47e3-8313-5150d643de39</td>\n",
       "      <td>ae9217d9-0f9f-48cb-8abe-b114c20b98e0</td>\n",
       "      <td>2019-11-21 08:25:49.996</td>\n",
       "      <td>ObjectViewedJournalEvent</td>\n",
       "      <td>{\"content\": {\"identifier\": \"5d4199da039a4ccc91...</td>\n",
       "      <td>{\"utmParams\": null}</td>\n",
       "    </tr>\n",
       "  </tbody>\n",
       "</table>\n",
       "<p>60000 rows × 6 columns</p>\n",
       "</div>"
      ],
      "text/plain": [
       "                                         id  \\\n",
       "0      b25c7564-b084-42ef-90f7-ce8466b4560e   \n",
       "1      17f45c55-2a8c-4b05-8d6f-651899a928cf   \n",
       "2      b1e69af1-4c4e-4208-bf6c-8dc03ae6eb9b   \n",
       "3      5382f088-cf0c-419e-a14e-0466aa0452e2   \n",
       "4      32dbe698-8d51-4148-9017-5137e75bac23   \n",
       "...                                     ...   \n",
       "59995  9857c929-f728-4bb8-8483-7c7958426b94   \n",
       "59996  4aaa559d-c2be-4fa3-a440-4a1ce270f7cf   \n",
       "59997  e4d6f7f6-4029-49dd-8ab8-e94d88366a9b   \n",
       "59998  aed5bd35-f5fd-4b92-a013-6cf8248d3a08   \n",
       "59999  6a3013ac-798d-47e3-8313-5150d643de39   \n",
       "\n",
       "                                     userId                eventTime  \\\n",
       "0      cf943c19-a2df-447b-9d26-77727d7c555b  2019-08-09 17:31:01.298   \n",
       "1      ca036cd8-dc22-4377-9fa4-fe073313e464  2019-08-09 17:31:08.639   \n",
       "2      ca036cd8-dc22-4377-9fa4-fe073313e464  2019-08-09 17:31:17.066   \n",
       "3      ca036cd8-dc22-4377-9fa4-fe073313e464  2019-08-09 17:59:51.295   \n",
       "4      ca036cd8-dc22-4377-9fa4-fe073313e464  2019-08-09 17:59:51.948   \n",
       "...                                     ...                      ...   \n",
       "59995  ca036cd8-dc22-4377-9fa4-fe073313e464  2019-11-21 07:57:53.656   \n",
       "59996  ca036cd8-dc22-4377-9fa4-fe073313e464  2019-11-21 07:57:57.881   \n",
       "59997                                   NaN  2019-11-21 08:22:21.476   \n",
       "59998  ae9217d9-0f9f-48cb-8abe-b114c20b98e0  2019-11-21 08:25:47.155   \n",
       "59999  ae9217d9-0f9f-48cb-8abe-b114c20b98e0  2019-11-21 08:25:49.996   \n",
       "\n",
       "                           eventCode  \\\n",
       "0                      SignedInEvent   \n",
       "1           ObjectViewedJournalEvent   \n",
       "2         SearchExecutedJournalEvent   \n",
       "3                     SignedOutEvent   \n",
       "4         SearchExecutedJournalEvent   \n",
       "...                              ...   \n",
       "59995     SearchExecutedJournalEvent   \n",
       "59996     SearchExecutedJournalEvent   \n",
       "59997  RedirectedFromExternalWithUtm   \n",
       "59998              UserStartActivity   \n",
       "59999       ObjectViewedJournalEvent   \n",
       "\n",
       "                                                 content  \\\n",
       "0                                                    NaN   \n",
       "1      {\"content\": {\"identifier\": \"67fe6e4e-1e8c-4ab0...   \n",
       "2      {\"docRequest\": {\"skip\": 0, \"limit\": 0, \"query\"...   \n",
       "3                                                    NaN   \n",
       "4      {\"docRequest\": {\"skip\": 0, \"limit\": 0, \"query\"...   \n",
       "...                                                  ...   \n",
       "59995  {\"docRequest\": {\"skip\": 0, \"limit\": 0, \"query\"...   \n",
       "59996  {\"docRequest\": {\"skip\": 0, \"limit\": 10, \"query...   \n",
       "59997                                                NaN   \n",
       "59998                                                NaN   \n",
       "59999  {\"content\": {\"identifier\": \"5d4199da039a4ccc91...   \n",
       "\n",
       "                                              additional  \n",
       "0                                    {\"utmParams\": null}  \n",
       "1                                    {\"utmParams\": null}  \n",
       "2                                    {\"utmParams\": null}  \n",
       "3                                    {\"utmParams\": null}  \n",
       "4                                    {\"utmParams\": null}  \n",
       "...                                                  ...  \n",
       "59995                                {\"utmParams\": null}  \n",
       "59996                                {\"utmParams\": null}  \n",
       "59997  {\"utmParams\": {\"markerTypeToValue\": {\"utm_sour...  \n",
       "59998                                {\"utmParams\": null}  \n",
       "59999                                {\"utmParams\": null}  \n",
       "\n",
       "[60000 rows x 6 columns]"
      ]
     },
     "execution_count": 2,
     "metadata": {},
     "output_type": "execute_result"
    }
   ],
   "source": [
    "df = pd.read_csv('journals_shot.tsv',sep = '\\t') \n",
    "df"
   ]
  },
  {
   "cell_type": "code",
   "execution_count": 6,
   "id": "graphic-niger",
   "metadata": {},
   "outputs": [
    {
     "name": "stdout",
     "output_type": "stream",
     "text": [
      "<class 'pandas.core.frame.DataFrame'>\n",
      "RangeIndex: 60000 entries, 0 to 59999\n",
      "Data columns (total 6 columns):\n",
      " #   Column      Non-Null Count  Dtype \n",
      "---  ------      --------------  ----- \n",
      " 0   id          60000 non-null  object\n",
      " 1   userId      55603 non-null  object\n",
      " 2   eventTime   60000 non-null  object\n",
      " 3   eventCode   60000 non-null  object\n",
      " 4   content     40809 non-null  object\n",
      " 5   additional  60000 non-null  object\n",
      "dtypes: object(6)\n",
      "memory usage: 2.7+ MB\n"
     ]
    }
   ],
   "source": [
    "df.info()"
   ]
  },
  {
   "cell_type": "code",
   "execution_count": 7,
   "id": "outdoor-identity",
   "metadata": {},
   "outputs": [
    {
     "data": {
      "text/plain": [
       "'{\"content\": {\"identifier\": \"67fe6e4e-1e8c-4ab0-9943-d532fc02de6e\", \"objectType\": \"profile\"}, \"jsonFormatterCode\": \"ObjectViewedJournalEvent\"}'"
      ]
     },
     "execution_count": 7,
     "metadata": {},
     "output_type": "execute_result"
    }
   ],
   "source": [
    "# просмотр даных переменной content, чтобы понять нужно ли преобразовывать json и использовать переменную в решении задачи\n",
    "df.content.iat[1]"
   ]
  },
  {
   "cell_type": "code",
   "execution_count": 8,
   "id": "tired-substitute",
   "metadata": {},
   "outputs": [
    {
     "data": {
      "text/plain": [
       "'{\"utmParams\": {\"markerTypeToValue\": {\"utm_source\": \"portal\", \"utm_content\": \"searchbar\"}}}'"
      ]
     },
     "execution_count": 8,
     "metadata": {},
     "output_type": "execute_result"
    }
   ],
   "source": [
    "df.additional.iat[59997]"
   ]
  },
  {
   "cell_type": "markdown",
   "id": "cellular-tackle",
   "metadata": {},
   "source": [
    "По-моему, чтобы ответить на поставленные вопросы нет необходимости в применении content и additional. Безусловно они могут дать дополнительную информацию, но на первый взгляд можно продолжить без них"
   ]
  },
  {
   "cell_type": "code",
   "execution_count": 9,
   "id": "suburban-fleece",
   "metadata": {},
   "outputs": [
    {
     "name": "stdout",
     "output_type": "stream",
     "text": [
      "Количество уникальных пользователей: 2262\n"
     ]
    }
   ],
   "source": [
    "# поиск количества уникальных пользователей\n",
    "print('Количество уникальных пользователей:', len(df['userId'].unique()))"
   ]
  },
  {
   "cell_type": "code",
   "execution_count": 13,
   "id": "experienced-elite",
   "metadata": {},
   "outputs": [],
   "source": [
    "# Для изучения данных проверим количество пропущенных значений\n",
    "# Функция для подсчета пропущенных значений\n",
    "def missing_values_table(df):\n",
    "        # всего N/A\n",
    "        mis_val = df.isnull().sum()\n",
    "        \n",
    "        # Процент N/A\n",
    "        mis_val_percent = 100 * df.isnull().sum() / len(df)\n",
    "        \n",
    "        # Таблица с результатом\n",
    "        mis_val_table = pd.concat([mis_val, mis_val_percent], axis=1)\n",
    "        \n",
    "        # Переименование столбцов\n",
    "        mis_val_table_ren_columns = mis_val_table.rename(\n",
    "        columns = {0 : 'Missing Values', 1 : '% of Total Values'})\n",
    "        \n",
    "        # Сортировка по уменьшению\n",
    "        mis_val_table_ren_columns = mis_val_table_ren_columns[\n",
    "            mis_val_table_ren_columns.iloc[:,1] != 0].sort_values(\n",
    "        '% of Total Values', ascending=False).round(1)\n",
    "        \n",
    "        \n",
    "        print (\"Выбранный набор данных имеет \" + str(df.shape[1]) + \" переменных.\\n\"      \n",
    "            \"Всего \" + str(mis_val_table_ren_columns.shape[0]) +\n",
    "              \" имеют пропущенные значения.\")\n",
    "        \n",
    "        \n",
    "        return mis_val_table_ren_columns"
   ]
  },
  {
   "cell_type": "code",
   "execution_count": 14,
   "id": "recovered-version",
   "metadata": {},
   "outputs": [
    {
     "name": "stdout",
     "output_type": "stream",
     "text": [
      "Выбранный набор данных имеет 6 переменных.\n",
      "Всего 2 имеют пропущенные значения.\n"
     ]
    },
    {
     "data": {
      "text/html": [
       "<div>\n",
       "<style scoped>\n",
       "    .dataframe tbody tr th:only-of-type {\n",
       "        vertical-align: middle;\n",
       "    }\n",
       "\n",
       "    .dataframe tbody tr th {\n",
       "        vertical-align: top;\n",
       "    }\n",
       "\n",
       "    .dataframe thead th {\n",
       "        text-align: right;\n",
       "    }\n",
       "</style>\n",
       "<table border=\"1\" class=\"dataframe\">\n",
       "  <thead>\n",
       "    <tr style=\"text-align: right;\">\n",
       "      <th></th>\n",
       "      <th>Missing Values</th>\n",
       "      <th>% of Total Values</th>\n",
       "    </tr>\n",
       "  </thead>\n",
       "  <tbody>\n",
       "    <tr>\n",
       "      <th>content</th>\n",
       "      <td>19191</td>\n",
       "      <td>32.0</td>\n",
       "    </tr>\n",
       "    <tr>\n",
       "      <th>userId</th>\n",
       "      <td>4397</td>\n",
       "      <td>7.3</td>\n",
       "    </tr>\n",
       "  </tbody>\n",
       "</table>\n",
       "</div>"
      ],
      "text/plain": [
       "         Missing Values  % of Total Values\n",
       "content           19191               32.0\n",
       "userId             4397                7.3"
      ]
     },
     "execution_count": 14,
     "metadata": {},
     "output_type": "execute_result"
    }
   ],
   "source": [
    "missing_values_table(df)"
   ]
  },
  {
   "cell_type": "markdown",
   "id": "laden-auditor",
   "metadata": {},
   "source": [
    "32% пропущенных значений могут значительно повлиять на качество выводов, однако в рамках задачи переменная content не будет использована мной, поэтому ее можно как исключить из набора данных, так и ничего не делать"
   ]
  },
  {
   "cell_type": "code",
   "execution_count": 5,
   "id": "broadband-proceeding",
   "metadata": {},
   "outputs": [
    {
     "name": "stdout",
     "output_type": "stream",
     "text": [
      "eventCode\n",
      "SearchExecutedJournalEvent       33184\n",
      "RedirectedFromExternalWithUtm     9629\n",
      "UserStartActivity                 8188\n",
      "ObjectViewedJournalEvent          7112\n",
      "CatalogListViewedEvent             564\n",
      "ProfileListViewedEvent             524\n",
      "SearchQueryExpandedEvent           283\n",
      "CatalogViewedEvent                 158\n",
      "BookmarksViewedEvent                74\n",
      "CatalogItemUpdatedEvent             34\n",
      "BookmarkAddedEvent                  33\n",
      "FeedbackSent                        30\n",
      "OrganizationListViewedEvent         28\n",
      "SignedInEvent                       24\n",
      "UserRoleAssignation                 21\n",
      "SignedOutEvent                      19\n",
      "SignInFailed                        17\n",
      "ErrorFound                          15\n",
      "JournalDownloaded                   14\n",
      "CatalogItemCreatedEvent             13\n",
      "RoleMappingRulesUpdated             11\n",
      "BookmarkRemovedEvent                11\n",
      "CatalogDeletedEvent                  7\n",
      "UserStateChangedEvent                4\n",
      "CatalogItemDeletedEvent              3\n",
      "Name: eventCode, dtype: int64\n"
     ]
    }
   ],
   "source": [
    "# какие действия пользователи совершают чаще всего? \n",
    "df2 = df.groupby(['eventCode'])['eventCode'].count().sort_values(ascending=False)\n",
    "print(df2)"
   ]
  },
  {
   "cell_type": "markdown",
   "id": "indian-amateur",
   "metadata": {},
   "source": [
    "Таким образом, пользователи совершают следующие действия чаще всего: SearchExecutedJournalEvent\t\"Выполнен поиск\", RedirectedFromExternalWithUtm\t\"Пользователь перенаправлен с внешнего ресурса\", UserStartActivity\t\"Пользователь активен\", ObjectViewedJournalEvent\t\"Просмотрен объект\" "
   ]
  },
  {
   "cell_type": "code",
   "execution_count": 17,
   "id": "medieval-river",
   "metadata": {},
   "outputs": [
    {
     "data": {
      "text/plain": [
       "60000"
      ]
     },
     "execution_count": 17,
     "metadata": {},
     "output_type": "execute_result"
    }
   ],
   "source": [
    "df['eventCode'].count()"
   ]
  },
  {
   "cell_type": "code",
   "execution_count": 23,
   "id": "marked-timber",
   "metadata": {},
   "outputs": [
    {
     "name": "stdout",
     "output_type": "stream",
     "text": [
      "26.52519893899204\n"
     ]
    }
   ],
   "source": [
    "# расчет среднего количества событий на одного пользователя\n",
    "n_user_event = 60000/2262\n",
    "print(n_user_event)"
   ]
  },
  {
   "cell_type": "markdown",
   "id": "western-contact",
   "metadata": {},
   "source": [
    "Спасибо Вам за уделенное моей работе время. Наверное, Вы ожидали большего, однако в условиях сильно ограниченного времени, я решила, что лучше пришлю часть выполненного задания, чем не отправлю ничего. Надеюсь, у меня еще будет шанс показать свои знания."
   ]
  },
  {
   "cell_type": "code",
   "execution_count": null,
   "id": "permanent-qatar",
   "metadata": {},
   "outputs": [],
   "source": []
  }
 ],
 "metadata": {
  "kernelspec": {
   "display_name": "Python 3",
   "language": "python",
   "name": "python3"
  },
  "language_info": {
   "codemirror_mode": {
    "name": "ipython",
    "version": 3
   },
   "file_extension": ".py",
   "mimetype": "text/x-python",
   "name": "python",
   "nbconvert_exporter": "python",
   "pygments_lexer": "ipython3",
   "version": "3.8.6"
  }
 },
 "nbformat": 4,
 "nbformat_minor": 5
}
